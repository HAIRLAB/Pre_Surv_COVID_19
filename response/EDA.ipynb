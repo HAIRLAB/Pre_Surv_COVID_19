{
 "cells": [
  {
   "cell_type": "code",
   "execution_count": 1,
   "metadata": {},
   "outputs": [],
   "source": [
    "import sys\n",
    "import re\n",
    "import numpy as np\n",
    "import pandas as pd\n",
    "%matplotlib inline\n",
    "import matplotlib.pyplot as plt\n",
    "import seaborn as sns\n",
    "from scipy.stats import ks_2samp\n",
    "\n",
    "from xgboost import XGBClassifier\n",
    "from sklearn import metrics\n",
    "from sklearn.model_selection import StratifiedKFold\n",
    "\n",
    "\n",
    "sns.set(palette='pastel')\n",
    "\n",
    "# The order of features cannot be changed, because all function follow this order.\n",
    "features_en = ['LDH', 'CRP', 'L%']\n",
    "features_zh = ['乳酸脱氢酶', '超敏C反应蛋白', '淋巴细胞(%)']"
   ]
  },
  {
   "cell_type": "markdown",
   "metadata": {},
   "source": [
    "# Load data"
   ]
  },
  {
   "cell_type": "markdown",
   "metadata": {},
   "source": [
    "## Tongji"
   ]
  },
  {
   "cell_type": "code",
   "execution_count": 3,
   "metadata": {},
   "outputs": [],
   "source": [
    "def merge_data_by_sliding_window(data, n_days=1, dropna=True, subset=None, time_form='diff'):\n",
    "    \"\"\"Slide window to merge data\n",
    "\n",
    "    :param data: Time series data. The first-level row index is PATIENT_ID, and the second-level row index is RE_DATE.\n",
    "    :param n_days: The length of the window.\n",
    "    :param dropna: Whether to delete what is missing after sliding window merge\n",
    "    :param subset: pd.DataFrame().dropna() parameter\n",
    "    :param time_form: Return time index of data, 'diff' or 'timestamp'.\n",
    "    :return: The merged data. The first-level row index is PATIENT_ID, and the second-level row index is t_diff or RE_DATE,\n",
    "             depending on \"time_form\"\n",
    "    \"\"\"\n",
    "    data = data.reset_index(level=1)\n",
    "\n",
    "    # 距离出院时长 (time interval before discharge)\n",
    "    t_diff = data['出院时间'].dt.normalize() - data['RE_DATE'].dt.normalize()\n",
    "    data['t_diff'] = t_diff.dt.days.values // n_days * n_days\n",
    "    data = data.set_index('t_diff', append=True)\n",
    "\n",
    "    # 滑窗合并 (combine time windows)\n",
    "    data = (\n",
    "        data\n",
    "        .groupby(['PATIENT_ID', 't_diff']).ffill()\n",
    "        .groupby(['PATIENT_ID', 't_diff']).last()\n",
    "    )\n",
    "\n",
    "    if dropna:\n",
    "        data = data.dropna(subset=subset)\n",
    "        \n",
    "    if time_form == 'timestamp':\n",
    "        data = (\n",
    "            data\n",
    "            .reset_index(level=1, drop=True)\n",
    "            .set_index('RE_DATE', append=True)\n",
    "        )\n",
    "    elif time_form == 'diff':\n",
    "        data = data.drop(columns=['RE_DATE'])\n",
    "\n",
    "    return data"
   ]
  },
  {
   "cell_type": "code",
   "execution_count": 4,
   "metadata": {},
   "outputs": [
    {
     "data": {
      "text/html": [
       "<div>\n",
       "<style scoped>\n",
       "    .dataframe tbody tr th:only-of-type {\n",
       "        vertical-align: middle;\n",
       "    }\n",
       "\n",
       "    .dataframe tbody tr th {\n",
       "        vertical-align: top;\n",
       "    }\n",
       "\n",
       "    .dataframe thead th {\n",
       "        text-align: right;\n",
       "    }\n",
       "</style>\n",
       "<table border=\"1\" class=\"dataframe\">\n",
       "  <thead>\n",
       "    <tr style=\"text-align: right;\">\n",
       "      <th></th>\n",
       "      <th>LDH</th>\n",
       "      <th>CRP</th>\n",
       "      <th>L%</th>\n",
       "      <th>Survival/death</th>\n",
       "      <th>Class</th>\n",
       "    </tr>\n",
       "  </thead>\n",
       "  <tbody>\n",
       "    <tr>\n",
       "      <th>0</th>\n",
       "      <td>198.0</td>\n",
       "      <td>2.6</td>\n",
       "      <td>28.7</td>\n",
       "      <td>0</td>\n",
       "      <td>Tongji (last 10 days)</td>\n",
       "    </tr>\n",
       "    <tr>\n",
       "      <th>1</th>\n",
       "      <td>269.0</td>\n",
       "      <td>3.6</td>\n",
       "      <td>33.1</td>\n",
       "      <td>0</td>\n",
       "      <td>Tongji (last 10 days)</td>\n",
       "    </tr>\n",
       "    <tr>\n",
       "      <th>2</th>\n",
       "      <td>179.0</td>\n",
       "      <td>0.8</td>\n",
       "      <td>30.5</td>\n",
       "      <td>0</td>\n",
       "      <td>Tongji (last 10 days)</td>\n",
       "    </tr>\n",
       "    <tr>\n",
       "      <th>3</th>\n",
       "      <td>231.0</td>\n",
       "      <td>0.3</td>\n",
       "      <td>31.0</td>\n",
       "      <td>0</td>\n",
       "      <td>Tongji (last 10 days)</td>\n",
       "    </tr>\n",
       "    <tr>\n",
       "      <th>4</th>\n",
       "      <td>354.0</td>\n",
       "      <td>1.5</td>\n",
       "      <td>3.0</td>\n",
       "      <td>0</td>\n",
       "      <td>Tongji (last 10 days)</td>\n",
       "    </tr>\n",
       "    <tr>\n",
       "      <th>...</th>\n",
       "      <td>...</td>\n",
       "      <td>...</td>\n",
       "      <td>...</td>\n",
       "      <td>...</td>\n",
       "      <td>...</td>\n",
       "    </tr>\n",
       "    <tr>\n",
       "      <th>556</th>\n",
       "      <td>501.0</td>\n",
       "      <td>317.6</td>\n",
       "      <td>1.3</td>\n",
       "      <td>1</td>\n",
       "      <td>Tongji (last 10 days)</td>\n",
       "    </tr>\n",
       "    <tr>\n",
       "      <th>557</th>\n",
       "      <td>417.0</td>\n",
       "      <td>228.2</td>\n",
       "      <td>1.0</td>\n",
       "      <td>1</td>\n",
       "      <td>Tongji (last 10 days)</td>\n",
       "    </tr>\n",
       "    <tr>\n",
       "      <th>558</th>\n",
       "      <td>477.0</td>\n",
       "      <td>293.5</td>\n",
       "      <td>0.9</td>\n",
       "      <td>1</td>\n",
       "      <td>Tongji (last 10 days)</td>\n",
       "    </tr>\n",
       "    <tr>\n",
       "      <th>559</th>\n",
       "      <td>509.0</td>\n",
       "      <td>172.1</td>\n",
       "      <td>1.4</td>\n",
       "      <td>1</td>\n",
       "      <td>Tongji (last 10 days)</td>\n",
       "    </tr>\n",
       "    <tr>\n",
       "      <th>560</th>\n",
       "      <td>430.0</td>\n",
       "      <td>31.2</td>\n",
       "      <td>10.0</td>\n",
       "      <td>0</td>\n",
       "      <td>Tongji (last 10 days)</td>\n",
       "    </tr>\n",
       "  </tbody>\n",
       "</table>\n",
       "<p>561 rows × 5 columns</p>\n",
       "</div>"
      ],
      "text/plain": [
       "       LDH    CRP    L%  Survival/death                  Class\n",
       "0    198.0    2.6  28.7               0  Tongji (last 10 days)\n",
       "1    269.0    3.6  33.1               0  Tongji (last 10 days)\n",
       "2    179.0    0.8  30.5               0  Tongji (last 10 days)\n",
       "3    231.0    0.3  31.0               0  Tongji (last 10 days)\n",
       "4    354.0    1.5   3.0               0  Tongji (last 10 days)\n",
       "..     ...    ...   ...             ...                    ...\n",
       "556  501.0  317.6   1.3               1  Tongji (last 10 days)\n",
       "557  417.0  228.2   1.0               1  Tongji (last 10 days)\n",
       "558  477.0  293.5   0.9               1  Tongji (last 10 days)\n",
       "559  509.0  172.1   1.4               1  Tongji (last 10 days)\n",
       "560  430.0   31.2  10.0               0  Tongji (last 10 days)\n",
       "\n",
       "[561 rows x 5 columns]"
      ]
     },
     "execution_count": 4,
     "metadata": {},
     "output_type": "execute_result"
    }
   ],
   "source": [
    "def load_tj_data():\n",
    "    \"\"\"\n",
    "    Load Tongji 375 + 110 data\n",
    "    <=10 days data\n",
    "    \"\"\"\n",
    "    p_read_375 = '../新冠荷兰数据/data/time_series_375.parquet'\n",
    "    df375 = pd.read_parquet(p_read_375)\n",
    "    df375 = merge_data_by_sliding_window(df375, subset=features_zh)\n",
    "    df375 = df375[features_zh+['出院方式']]\n",
    "    df375['Class'] = 'Tongji (last 10 days)'\n",
    "#     df375['Class'] = 'Tongji375 (last 10 days)'\n",
    "\n",
    "    p_read_110 = '../新冠荷兰数据/data/time_series_test_110.parquet'\n",
    "    df110 = pd.read_parquet(p_read_110)\n",
    "    df110 = merge_data_by_sliding_window(df110, subset=features_zh)\n",
    "    df110 = df110[features_zh+['出院方式']]\n",
    "    df110['Class'] = 'Tongji (last 10 days)'\n",
    "#     df110['Class'] = 'Tongji110 (last 10 days)'\n",
    "\n",
    "    df = pd.concat([df375, df110])\n",
    "    df = df.query(\"`t_diff` <= 10\")\n",
    "    df = df.reset_index(drop=True)\n",
    "    df.columns = features_en + ['Survival/death', 'Class']\n",
    "    df['Survival/death'] = df['Survival/death'].astype(int)\n",
    "\n",
    "    return df\n",
    "\n",
    "load_tj_data()"
   ]
  },
  {
   "cell_type": "markdown",
   "metadata": {},
   "source": [
    "## Netherlands"
   ]
  },
  {
   "cell_type": "code",
   "execution_count": 5,
   "metadata": {
    "scrolled": true
   },
   "outputs": [
    {
     "data": {
      "text/html": [
       "<div>\n",
       "<style scoped>\n",
       "    .dataframe tbody tr th:only-of-type {\n",
       "        vertical-align: middle;\n",
       "    }\n",
       "\n",
       "    .dataframe tbody tr th {\n",
       "        vertical-align: top;\n",
       "    }\n",
       "\n",
       "    .dataframe thead th {\n",
       "        text-align: right;\n",
       "    }\n",
       "</style>\n",
       "<table border=\"1\" class=\"dataframe\">\n",
       "  <thead>\n",
       "    <tr style=\"text-align: right;\">\n",
       "      <th></th>\n",
       "      <th>LDH</th>\n",
       "      <th>CRP</th>\n",
       "      <th>L%</th>\n",
       "      <th>Survival/death</th>\n",
       "      <th>Class</th>\n",
       "    </tr>\n",
       "  </thead>\n",
       "  <tbody>\n",
       "    <tr>\n",
       "      <th>0</th>\n",
       "      <td>316</td>\n",
       "      <td>77</td>\n",
       "      <td>20.909091</td>\n",
       "      <td>0</td>\n",
       "      <td>AH (last 10 days)</td>\n",
       "    </tr>\n",
       "    <tr>\n",
       "      <th>1</th>\n",
       "      <td>444</td>\n",
       "      <td>82</td>\n",
       "      <td>11.911765</td>\n",
       "      <td>0</td>\n",
       "      <td>AH (last 10 days)</td>\n",
       "    </tr>\n",
       "    <tr>\n",
       "      <th>2</th>\n",
       "      <td>323</td>\n",
       "      <td>58</td>\n",
       "      <td>12.586207</td>\n",
       "      <td>0</td>\n",
       "      <td>AH (last 10 days)</td>\n",
       "    </tr>\n",
       "    <tr>\n",
       "      <th>3</th>\n",
       "      <td>244</td>\n",
       "      <td>20</td>\n",
       "      <td>27.254902</td>\n",
       "      <td>0</td>\n",
       "      <td>AH (last 10 days)</td>\n",
       "    </tr>\n",
       "    <tr>\n",
       "      <th>4</th>\n",
       "      <td>252</td>\n",
       "      <td>33</td>\n",
       "      <td>20.227273</td>\n",
       "      <td>0</td>\n",
       "      <td>AH (last 10 days)</td>\n",
       "    </tr>\n",
       "    <tr>\n",
       "      <th>...</th>\n",
       "      <td>...</td>\n",
       "      <td>...</td>\n",
       "      <td>...</td>\n",
       "      <td>...</td>\n",
       "      <td>...</td>\n",
       "    </tr>\n",
       "    <tr>\n",
       "      <th>246</th>\n",
       "      <td>374</td>\n",
       "      <td>58</td>\n",
       "      <td>14.366197</td>\n",
       "      <td>0</td>\n",
       "      <td>AH (last 10 days)</td>\n",
       "    </tr>\n",
       "    <tr>\n",
       "      <th>247</th>\n",
       "      <td>198</td>\n",
       "      <td>36</td>\n",
       "      <td>23.571429</td>\n",
       "      <td>0</td>\n",
       "      <td>AH (last 10 days)</td>\n",
       "    </tr>\n",
       "    <tr>\n",
       "      <th>248</th>\n",
       "      <td>416</td>\n",
       "      <td>102</td>\n",
       "      <td>10.267857</td>\n",
       "      <td>0</td>\n",
       "      <td>AH (last 10 days)</td>\n",
       "    </tr>\n",
       "    <tr>\n",
       "      <th>249</th>\n",
       "      <td>186</td>\n",
       "      <td>20</td>\n",
       "      <td>25.102041</td>\n",
       "      <td>0</td>\n",
       "      <td>AH (last 10 days)</td>\n",
       "    </tr>\n",
       "    <tr>\n",
       "      <th>250</th>\n",
       "      <td>310</td>\n",
       "      <td>34</td>\n",
       "      <td>25.348837</td>\n",
       "      <td>0</td>\n",
       "      <td>AH (last 10 days)</td>\n",
       "    </tr>\n",
       "  </tbody>\n",
       "</table>\n",
       "<p>251 rows × 5 columns</p>\n",
       "</div>"
      ],
      "text/plain": [
       "     LDH  CRP         L%  Survival/death              Class\n",
       "0    316   77  20.909091               0  AH (last 10 days)\n",
       "1    444   82  11.911765               0  AH (last 10 days)\n",
       "2    323   58  12.586207               0  AH (last 10 days)\n",
       "3    244   20  27.254902               0  AH (last 10 days)\n",
       "4    252   33  20.227273               0  AH (last 10 days)\n",
       "..   ...  ...        ...             ...                ...\n",
       "246  374   58  14.366197               0  AH (last 10 days)\n",
       "247  198   36  23.571429               0  AH (last 10 days)\n",
       "248  416  102  10.267857               0  AH (last 10 days)\n",
       "249  186   20  25.102041               0  AH (last 10 days)\n",
       "250  310   34  25.348837               0  AH (last 10 days)\n",
       "\n",
       "[251 rows x 5 columns]"
      ]
     },
     "execution_count": 5,
     "metadata": {},
     "output_type": "execute_result"
    }
   ],
   "source": [
    "def load_nl_data():\n",
    "    \"\"\"\n",
    "    Load Netherlands data\n",
    "    <=10 days data\n",
    "    \"\"\"\n",
    "    df = pd.read_excel(\"../新冠荷兰数据/data/Quanjel_dataset_1591655498_1.xlsx\")\n",
    "    \n",
    "    df = df[df['Date of discharge'] != 'No']\n",
    "    df['Date of discharge'] = pd.to_datetime(df['Date of discharge'])\n",
    "    df['diff'] = (df['Date of discharge'] - df['Date blood analysis']).dt.days\n",
    "    \n",
    "    # Select the data and rename it\n",
    "    df['Survival/death'] = df['Survival/death'].map({'Alive': 0, 'Deceased': 1})\n",
    "    df = df.query(\"`diff` <= 10\").reset_index(drop=True)\n",
    "    df = df.rename(columns={'LD': 'LDH', 'Percentage lymphocytes': 'L%'})\n",
    "    df = df[features_en + ['Survival/death']]\n",
    "    df['Class'] = 'AH (last 10 days)'\n",
    "    df['Survival/death'] = df['Survival/death'].astype(int)\n",
    "\n",
    "    return df\n",
    "\n",
    "load_nl_data()"
   ]
  },
  {
   "cell_type": "markdown",
   "metadata": {},
   "source": [
    "## France"
   ]
  },
  {
   "cell_type": "code",
   "execution_count": 6,
   "metadata": {
    "scrolled": true
   },
   "outputs": [
    {
     "data": {
      "text/html": [
       "<div>\n",
       "<style scoped>\n",
       "    .dataframe tbody tr th:only-of-type {\n",
       "        vertical-align: middle;\n",
       "    }\n",
       "\n",
       "    .dataframe tbody tr th {\n",
       "        vertical-align: top;\n",
       "    }\n",
       "\n",
       "    .dataframe thead th {\n",
       "        text-align: right;\n",
       "    }\n",
       "</style>\n",
       "<table border=\"1\" class=\"dataframe\">\n",
       "  <thead>\n",
       "    <tr style=\"text-align: right;\">\n",
       "      <th></th>\n",
       "      <th>LDH</th>\n",
       "      <th>CRP</th>\n",
       "      <th>L%</th>\n",
       "      <th>Survival/death</th>\n",
       "      <th>Class</th>\n",
       "    </tr>\n",
       "  </thead>\n",
       "  <tbody>\n",
       "    <tr>\n",
       "      <th>0</th>\n",
       "      <td>280.000000</td>\n",
       "      <td>67.10</td>\n",
       "      <td>7.692308</td>\n",
       "      <td>0</td>\n",
       "      <td>FO (last)</td>\n",
       "    </tr>\n",
       "    <tr>\n",
       "      <th>1</th>\n",
       "      <td>362.000000</td>\n",
       "      <td>174.00</td>\n",
       "      <td>24.666667</td>\n",
       "      <td>0</td>\n",
       "      <td>FO (last)</td>\n",
       "    </tr>\n",
       "    <tr>\n",
       "      <th>2</th>\n",
       "      <td>1230.000000</td>\n",
       "      <td>126.00</td>\n",
       "      <td>16.500000</td>\n",
       "      <td>1</td>\n",
       "      <td>FO (last)</td>\n",
       "    </tr>\n",
       "    <tr>\n",
       "      <th>3</th>\n",
       "      <td>577.142857</td>\n",
       "      <td>243.00</td>\n",
       "      <td>10.952381</td>\n",
       "      <td>1</td>\n",
       "      <td>FO (last)</td>\n",
       "    </tr>\n",
       "    <tr>\n",
       "      <th>4</th>\n",
       "      <td>723.000000</td>\n",
       "      <td>83.80</td>\n",
       "      <td>6.296296</td>\n",
       "      <td>0</td>\n",
       "      <td>FO (last)</td>\n",
       "    </tr>\n",
       "    <tr>\n",
       "      <th>...</th>\n",
       "      <td>...</td>\n",
       "      <td>...</td>\n",
       "      <td>...</td>\n",
       "      <td>...</td>\n",
       "      <td>...</td>\n",
       "    </tr>\n",
       "    <tr>\n",
       "      <th>93</th>\n",
       "      <td>556.000000</td>\n",
       "      <td>26.50</td>\n",
       "      <td>17.460317</td>\n",
       "      <td>0</td>\n",
       "      <td>FO (last)</td>\n",
       "    </tr>\n",
       "    <tr>\n",
       "      <th>94</th>\n",
       "      <td>303.000000</td>\n",
       "      <td>217.80</td>\n",
       "      <td>6.060606</td>\n",
       "      <td>0</td>\n",
       "      <td>FO (last)</td>\n",
       "    </tr>\n",
       "    <tr>\n",
       "      <th>95</th>\n",
       "      <td>480.142857</td>\n",
       "      <td>308.70</td>\n",
       "      <td>2.962963</td>\n",
       "      <td>0</td>\n",
       "      <td>FO (last)</td>\n",
       "    </tr>\n",
       "    <tr>\n",
       "      <th>96</th>\n",
       "      <td>352.000000</td>\n",
       "      <td>14.60</td>\n",
       "      <td>30.476190</td>\n",
       "      <td>0</td>\n",
       "      <td>FO (last)</td>\n",
       "    </tr>\n",
       "    <tr>\n",
       "      <th>97</th>\n",
       "      <td>667.000000</td>\n",
       "      <td>108.98</td>\n",
       "      <td>4.629630</td>\n",
       "      <td>1</td>\n",
       "      <td>FO (last)</td>\n",
       "    </tr>\n",
       "  </tbody>\n",
       "</table>\n",
       "<p>98 rows × 5 columns</p>\n",
       "</div>"
      ],
      "text/plain": [
       "            LDH     CRP         L%  Survival/death      Class\n",
       "0    280.000000   67.10   7.692308               0  FO (last)\n",
       "1    362.000000  174.00  24.666667               0  FO (last)\n",
       "2   1230.000000  126.00  16.500000               1  FO (last)\n",
       "3    577.142857  243.00  10.952381               1  FO (last)\n",
       "4    723.000000   83.80   6.296296               0  FO (last)\n",
       "..          ...     ...        ...             ...        ...\n",
       "93   556.000000   26.50  17.460317               0  FO (last)\n",
       "94   303.000000  217.80   6.060606               0  FO (last)\n",
       "95   480.142857  308.70   2.962963               0  FO (last)\n",
       "96   352.000000   14.60  30.476190               0  FO (last)\n",
       "97   667.000000  108.98   4.629630               1  FO (last)\n",
       "\n",
       "[98 rows x 5 columns]"
      ]
     },
     "execution_count": 6,
     "metadata": {},
     "output_type": "execute_result"
    }
   ],
   "source": [
    "def load_fr_data():\n",
    "    \"\"\"\n",
    "    Load France data\n",
    "    Because there is no detection time, so take the last detection result\n",
    "    \"\"\"\n",
    "    df = pd.read_csv('../新冠法国数据/data/2/1903_1_data_0_qc8yzj.csv', header=[0, 1], sep=';')\n",
    "    idx = df[('Unnamed: 0_level_0', 'id')]\n",
    "    idx.name = 'id'\n",
    "    df = df.set_index(idx)\n",
    "    \n",
    "    # Base data\n",
    "    df_base = df.iloc[:, :10]\n",
    "    df_base = df_base.droplevel(level=0, axis=1)\n",
    "    df_base = df_base[['id', 'date_hospital_admi', 'date_hospital_end', 'date_death', 'ICU_DC']]\n",
    "    df_base['date_hospital_admi'] = pd.to_datetime(df_base['date_hospital_admi'], format=\"%d/%m/%Y\")\n",
    "    df_base['date_hospital_end']  = pd.to_datetime(df_base['date_hospital_end'], format=\"%d/%m/%Y\")\n",
    "    df_base['date_death']         = pd.to_datetime(df_base['date_death'], format=\"%d/%m/%Y\")\n",
    "    df_base['end-admi'] = (df_base['date_hospital_end'] - df_base['date_hospital_admi']).dt.days\n",
    "    \n",
    "    # Admission data: HR_min, HR_max, SBP_min, SBP_max, DBP_min, DBP_max, SAPSII, RR, GCS\n",
    "    df_admi = df.iloc[:, 10:19]\n",
    "    \n",
    "    # Detection data\n",
    "    df_dete = df.iloc[:, 19:]\n",
    "    df_dete = df_dete.rename(columns=lambda x: int(re.sub('Day ', '', x)), level=0)\n",
    "    df_dete = df_dete.rename(columns=lambda x: re.sub('\\d', '', x), level=1).stack(level=0)\n",
    "    df_dete = df_dete.rename(columns={'CRPt': 'CRP', 'LDHt': 'LDH', 'L_perct': 'L%'})\n",
    "    df_dete.index.names = ['id', 'dete_num']\n",
    "\n",
    "    df = df_dete.join(df_base, on='id').drop(columns=['id'])\n",
    "    \n",
    "    # Select the data and rename it\n",
    "    df = df.dropna(subset=['ICU_DC'])\n",
    "    df = df.groupby(level=0).last()\n",
    "    df = df.reset_index(drop=True)\n",
    "    df = df.rename(columns={'ICU_DC': 'Survival/death'})\n",
    "    df = df[features_en+['Survival/death']]\n",
    "    df['Class'] = 'FO (last)'\n",
    "    df['Survival/death'] = df['Survival/death'].astype(int)\n",
    "\n",
    "    return df\n",
    "\n",
    "load_fr_data()"
   ]
  },
  {
   "cell_type": "markdown",
   "metadata": {},
   "source": [
    "## New York"
   ]
  },
  {
   "cell_type": "code",
   "execution_count": 7,
   "metadata": {},
   "outputs": [
    {
     "data": {
      "text/html": [
       "<div>\n",
       "<style scoped>\n",
       "    .dataframe tbody tr th:only-of-type {\n",
       "        vertical-align: middle;\n",
       "    }\n",
       "\n",
       "    .dataframe tbody tr th {\n",
       "        vertical-align: top;\n",
       "    }\n",
       "\n",
       "    .dataframe thead th {\n",
       "        text-align: right;\n",
       "    }\n",
       "</style>\n",
       "<table border=\"1\" class=\"dataframe\">\n",
       "  <thead>\n",
       "    <tr style=\"text-align: right;\">\n",
       "      <th></th>\n",
       "      <th>LDH</th>\n",
       "      <th>CRP</th>\n",
       "      <th>L%</th>\n",
       "      <th>Survival/death</th>\n",
       "      <th>Class</th>\n",
       "    </tr>\n",
       "  </thead>\n",
       "  <tbody>\n",
       "    <tr>\n",
       "      <th>0</th>\n",
       "      <td>641</td>\n",
       "      <td>57.5</td>\n",
       "      <td>4.5</td>\n",
       "      <td>1</td>\n",
       "      <td>NH (last)</td>\n",
       "    </tr>\n",
       "    <tr>\n",
       "      <th>1</th>\n",
       "      <td>334</td>\n",
       "      <td>100.4</td>\n",
       "      <td>0.9</td>\n",
       "      <td>1</td>\n",
       "      <td>NH (last)</td>\n",
       "    </tr>\n",
       "    <tr>\n",
       "      <th>2</th>\n",
       "      <td>568</td>\n",
       "      <td>220.7</td>\n",
       "      <td>2.8</td>\n",
       "      <td>1</td>\n",
       "      <td>NH (last)</td>\n",
       "    </tr>\n",
       "    <tr>\n",
       "      <th>3</th>\n",
       "      <td>613</td>\n",
       "      <td>19.3</td>\n",
       "      <td>0.9</td>\n",
       "      <td>1</td>\n",
       "      <td>NH (last)</td>\n",
       "    </tr>\n",
       "    <tr>\n",
       "      <th>4</th>\n",
       "      <td>271</td>\n",
       "      <td>25.1</td>\n",
       "      <td>2.6</td>\n",
       "      <td>1</td>\n",
       "      <td>NH (last)</td>\n",
       "    </tr>\n",
       "    <tr>\n",
       "      <th>...</th>\n",
       "      <td>...</td>\n",
       "      <td>...</td>\n",
       "      <td>...</td>\n",
       "      <td>...</td>\n",
       "      <td>...</td>\n",
       "    </tr>\n",
       "    <tr>\n",
       "      <th>1033</th>\n",
       "      <td>301</td>\n",
       "      <td>4.1</td>\n",
       "      <td>8.0</td>\n",
       "      <td>0</td>\n",
       "      <td>NH (last)</td>\n",
       "    </tr>\n",
       "    <tr>\n",
       "      <th>1034</th>\n",
       "      <td>1126</td>\n",
       "      <td>61.5</td>\n",
       "      <td>15.2</td>\n",
       "      <td>0</td>\n",
       "      <td>NH (last)</td>\n",
       "    </tr>\n",
       "    <tr>\n",
       "      <th>1035</th>\n",
       "      <td>340</td>\n",
       "      <td>39.5</td>\n",
       "      <td>6.1</td>\n",
       "      <td>1</td>\n",
       "      <td>NH (last)</td>\n",
       "    </tr>\n",
       "    <tr>\n",
       "      <th>1036</th>\n",
       "      <td>491</td>\n",
       "      <td>73.3</td>\n",
       "      <td>21.9</td>\n",
       "      <td>1</td>\n",
       "      <td>NH (last)</td>\n",
       "    </tr>\n",
       "    <tr>\n",
       "      <th>1037</th>\n",
       "      <td>282</td>\n",
       "      <td>85.7</td>\n",
       "      <td>9.8</td>\n",
       "      <td>0</td>\n",
       "      <td>NH (last)</td>\n",
       "    </tr>\n",
       "  </tbody>\n",
       "</table>\n",
       "<p>1038 rows × 5 columns</p>\n",
       "</div>"
      ],
      "text/plain": [
       "       LDH    CRP    L%  Survival/death      Class\n",
       "0      641   57.5   4.5               1  NH (last)\n",
       "1      334  100.4   0.9               1  NH (last)\n",
       "2      568  220.7   2.8               1  NH (last)\n",
       "3      613   19.3   0.9               1  NH (last)\n",
       "4      271   25.1   2.6               1  NH (last)\n",
       "...    ...    ...   ...             ...        ...\n",
       "1033   301    4.1   8.0               0  NH (last)\n",
       "1034  1126   61.5  15.2               0  NH (last)\n",
       "1035   340   39.5   6.1               1  NH (last)\n",
       "1036   491   73.3  21.9               1  NH (last)\n",
       "1037   282   85.7   9.8               0  NH (last)\n",
       "\n",
       "[1038 rows x 5 columns]"
      ]
     },
     "execution_count": 7,
     "metadata": {},
     "output_type": "execute_result"
    }
   ],
   "source": [
    "def load_ny_data():\n",
    "    \"\"\"\n",
    "    Load New York data\n",
    "    Because there is no detection time, take the last detection result\n",
    "    \"\"\"\n",
    "    df = pd.read_csv('../新冠纽约数据/data/Zanos_Dataset_1_1593181746_12.csv', index_col=0)\n",
    "    df = df[['Last_LDH', 'Last_CRP', 'Last_Lymph', 'Expired_Outcome']]\n",
    "    df.columns = features_en + ['Survival/death']\n",
    "    df = df.dropna(subset=['Survival/death'])\n",
    "    df = df.reset_index(drop=True)\n",
    "    df['Class'] = 'NH (last)'\n",
    "    df['Survival/death'] = df['Survival/death'].astype(int)\n",
    "\n",
    "    return df\n",
    "\n",
    "load_ny_data()"
   ]
  },
  {
   "cell_type": "markdown",
   "metadata": {},
   "source": [
    "## Jinyintan"
   ]
  },
  {
   "cell_type": "code",
   "execution_count": 19,
   "metadata": {},
   "outputs": [],
   "source": [
    "def load_jyt_data():\n",
    "    \"\"\"\n",
    "    Load Jinyintan data\n",
    "    <=10 days data\n",
    "    \"\"\"\n",
    "    df1 = pd.read_parquet(\"E:\\袁烨团队\\新冠肺炎特征选择\\Project\\Paper2\\汇总\\data/金银潭100/jyt100.parquet\")\n",
    "    df2 = pd.read_parquet(\"E:\\袁烨团队\\新冠肺炎特征选择\\Project\\Paper2\\汇总\\data/金银潭100/jyt46.parquet\")\n",
    "    df = pd.concat([df1, df2])\n",
    "    df = df.reset_index()\n",
    "    df['t_diff'] = (df['出院时间'] - df['RE_DATE']).dt.days\n",
    "    \n",
    "    df = df.query(\"`t_diff` <= 10\")\n",
    "    df = df[features_zh + ['出院方式']]\n",
    "    df.columns = features_en + ['Survival/death']\n",
    "    df['Class'] = 'Jinyintan (last 10 days)'\n",
    "    df = df.reset_index(drop=True)\n",
    "    return df\n",
    "\n",
    "# load_jyt_data()"
   ]
  },
  {
   "cell_type": "markdown",
   "metadata": {},
   "source": [
    "## Shenzhen"
   ]
  },
  {
   "cell_type": "code",
   "execution_count": 20,
   "metadata": {
    "scrolled": true
   },
   "outputs": [],
   "source": [
    "def load_sz_data():\n",
    "    \"\"\"\n",
    "    Load the data of No.3 People's Hospital in Shenzhen\n",
    "    <=10 days data\n",
    "    \"\"\"\n",
    "    df = pd.read_parquet(\"E:\\袁烨团队\\新冠肺炎特征选择\\Project\\Paper2\\汇总\\data\\深圳/sz.parquet\")\n",
    "    df = df.reset_index()\n",
    "    df['t_diff'] = (df['出院时间'] - df['RE_DATE']).dt.days\n",
    "    \n",
    "    df = df.query(\"`t_diff` <= 10\")\n",
    "    df = df[features_zh + ['出院方式']]\n",
    "    df.columns = features_en + ['Survival/death']\n",
    "    df['Class'] = 'Shenzhen (last 10 days)'\n",
    "    df = df.reset_index(drop=True)\n",
    "    return df\n",
    "\n",
    "# load_sz_data()"
   ]
  },
  {
   "cell_type": "markdown",
   "metadata": {},
   "source": [
    "# Violin figure"
   ]
  },
  {
   "cell_type": "code",
   "execution_count": 9,
   "metadata": {},
   "outputs": [
    {
     "data": {
      "image/png": "[encoded data removed]",
      "text/plain": [
       "<Figure size 576x288 with 1 Axes>"
      ]
     },
     "metadata": {},
     "output_type": "display_data"
    },
    {
     "data": {
      "image/png": "[encoded data removed]",
      "text/plain": [
       "<Figure size 576x288 with 1 Axes>"
      ]
     },
     "metadata": {},
     "output_type": "display_data"
    },
    {
     "data": {
      "image/png": "[encoded data removed]",
      "text/plain": [
       "<Figure size 576x288 with 1 Axes>"
      ]
     },
     "metadata": {},
     "output_type": "display_data"
    }
   ],
   "source": [
    "d_tj = load_tj_data()\n",
    "d_nl = load_nl_data()\n",
    "d_fr = load_fr_data()\n",
    "d_ny = load_ny_data()\n",
    "\n",
    "d = pd.concat([d_tj, d_nl, d_fr, d_ny])\n",
    "\n",
    "plt.figure(figsize=(8, 4))\n",
    "sns.violinplot(x='Class', y='LDH', hue='Survival/death', data=d, split=True)\n",
    "plt.ylim(-250, 2000)\n",
    "plt.savefig('figure/LDH', dpi=400, bbox_inches='tight')\n",
    "plt.show()\n",
    "\n",
    "plt.figure(figsize=(8, 4))\n",
    "sns.violinplot(x='Class', y='CRP', hue='Survival/death', data=d, split=True)\n",
    "plt.savefig('figure/CRP', dpi=400, bbox_inches='tight')\n",
    "plt.show()\n",
    "\n",
    "plt.figure(figsize=(8, 4))\n",
    "sns.violinplot(x='Class', y='L%', hue='Survival/death', data=d, split=True)\n",
    "plt.savefig('figure/L%', dpi=400, bbox_inches='tight')\n",
    "plt.show()"
   ]
  },
  {
   "cell_type": "code",
   "execution_count": 10,
   "metadata": {},
   "outputs": [
    {
     "data": {
      "image/png": "[encoded data removed]",
      "text/plain": [
       "<Figure size 576x288 with 1 Axes>"
      ]
     },
     "metadata": {},
     "output_type": "display_data"
    },
    {
     "data": {
      "image/png": "[encoded data removed]",
      "text/plain": [
       "<Figure size 576x288 with 1 Axes>"
      ]
     },
     "metadata": {},
     "output_type": "display_data"
    },
    {
     "data": {
      "image/png": "[encoded data removed]",
      "text/plain": [
       "<Figure size 576x288 with 1 Axes>"
      ]
     },
     "metadata": {},
     "output_type": "display_data"
    }
   ],
   "source": [
    "d_tj = load_tj_data()\n",
    "d_jyt = load_jyt_data()\n",
    "d_sz = load_sz_data()\n",
    "\n",
    "d = pd.concat([d_tj, d_jyt, d_sz])\n",
    "\n",
    "plt.figure(figsize=(8, 4))\n",
    "sns.violinplot(x='Class', y='LDH', hue='Survival/death', data=d, split=True)\n",
    "plt.ylim(-250, 2000)\n",
    "plt.savefig('figure/LDH', dpi=400, bbox_inches='tight')\n",
    "plt.show()\n",
    "\n",
    "plt.figure(figsize=(8, 4))\n",
    "sns.violinplot(x='Class', y='CRP', hue='Survival/death', data=d, split=True)\n",
    "plt.savefig('figure/CRP', dpi=400, bbox_inches='tight')\n",
    "plt.show()\n",
    "\n",
    "plt.figure(figsize=(8, 4))\n",
    "sns.violinplot(x='Class', y='L%', hue='Survival/death', data=d, split=True)\n",
    "plt.savefig('figure/L%', dpi=400, bbox_inches='tight')\n",
    "plt.show()"
   ]
  },
  {
   "cell_type": "markdown",
   "metadata": {},
   "source": [
    "# The prediction result of decision tree in our paper"
   ]
  },
  {
   "cell_type": "code",
   "execution_count": 21,
   "metadata": {},
   "outputs": [],
   "source": [
    "def decision_tree(x: pd.Series):\n",
    "    \"\"\"The decision tree in our paper\n",
    "    example: df.apply(decision_tree, axis=1)\n",
    "\n",
    "    :param x: a single sample，['LDH', 'CRP', 'L%']\n",
    "    :return: 0: Survival, 1: Death\n",
    "    \"\"\"\n",
    "    if x['LDH'] >= 365:\n",
    "        return 1\n",
    "\n",
    "    if x['CRP'] < 41.2:\n",
    "        return 0\n",
    "\n",
    "    if x['L%'] > 14.7:\n",
    "        return 0\n",
    "    else:\n",
    "        return 1\n",
    "    \n",
    "def heatmap_conf_matrix(y_true, y_pred, save_path, title='Confusion Matrix'):\n",
    "    LABELS = ['Survival', 'Death']\n",
    "    conf = metrics.confusion_matrix(y_true, y_pred)\n",
    "    \n",
    "    plt.close('all')\n",
    "    plt.figure(figsize=(3, 2))\n",
    "    sns.heatmap(conf,\n",
    "                cmap='coolwarm',\n",
    "                linecolor='white',\n",
    "                linewidths=1,\n",
    "                xticklabels=LABELS,\n",
    "                yticklabels=LABELS,\n",
    "                annot=True,\n",
    "                fmt='d')\n",
    "    plt.title(title)\n",
    "    plt.ylabel('True Label')\n",
    "    plt.xlabel('Predicted Label')\n",
    "    plt.savefig(save_path, dpi=500, bbox_inches='tight')\n",
    "    plt.show()\n",
    "\n",
    "def pred_and_plot(data, save_path, title):\n",
    "    data['pred_tree'] = data.apply(decision_tree, axis=1)\n",
    "    heatmap_conf_matrix(data['Survival/death'], data['pred_tree'], save_path, title)\n",
    "    print(metrics.classification_report(data['Survival/death'], data['pred_tree']))"
   ]
  },
  {
   "cell_type": "code",
   "execution_count": 11,
   "metadata": {},
   "outputs": [
    {
     "data": {
      "image/png": "[encoded data removed]",
      "text/plain": [
       "<Figure size 216x144 with 2 Axes>"
      ]
     },
     "metadata": {},
     "output_type": "display_data"
    },
    {
     "name": "stdout",
     "output_type": "stream",
     "text": [
      "              precision    recall  f1-score   support\n",
      "\n",
      "           0       0.99      0.87      0.92        97\n",
      "           1       0.48      0.92      0.63        13\n",
      "\n",
      "    accuracy                           0.87       110\n",
      "   macro avg       0.73      0.89      0.78       110\n",
      "weighted avg       0.93      0.87      0.89       110\n",
      "\n"
     ]
    }
   ],
   "source": [
    "p_read_110 = '../新冠荷兰数据/data/time_series_test_110.parquet'\n",
    "df110 = pd.read_parquet(p_read_110)\n",
    "df110 = merge_data_by_sliding_window(df110, subset=features_zh)\n",
    "df110 = df110[features_zh+['出院方式']]\n",
    "df110 = df110.groupby(level=0).last()     # descending + last() = first detection data\n",
    "df110.columns = ['LDH', 'CRP', 'L%', 'Survival/death']\n",
    "pred_and_plot(df110, 'figure/conf_tj110.png', 'Confusion Matrix for external validation (first)')"
   ]
  },
  {
   "cell_type": "code",
   "execution_count": 22,
   "metadata": {
    "scrolled": true
   },
   "outputs": [
    {
     "data": {
      "image/png": "[encoded data removed]",
      "text/plain": [
       "<Figure size 216x144 with 2 Axes>"
      ]
     },
     "metadata": {},
     "output_type": "display_data"
    },
    {
     "name": "stdout",
     "output_type": "stream",
     "text": [
      "              precision    recall  f1-score   support\n",
      "\n",
      "           0       0.89      0.80      0.84        74\n",
      "           1       0.94      0.97      0.95       223\n",
      "\n",
      "    accuracy                           0.93       297\n",
      "   macro avg       0.91      0.88      0.90       297\n",
      "weighted avg       0.92      0.93      0.92       297\n",
      "\n"
     ]
    },
    {
     "data": {
      "image/png": "[encoded data removed]",
      "text/plain": [
       "<Figure size 216x144 with 2 Axes>"
      ]
     },
     "metadata": {},
     "output_type": "display_data"
    },
    {
     "name": "stdout",
     "output_type": "stream",
     "text": [
      "              precision    recall  f1-score   support\n",
      "\n",
      "           0       1.00      0.95      0.97       489\n",
      "           1       0.58      1.00      0.73        34\n",
      "\n",
      "    accuracy                           0.95       523\n",
      "   macro avg       0.79      0.97      0.85       523\n",
      "weighted avg       0.97      0.95      0.96       523\n",
      "\n"
     ]
    }
   ],
   "source": [
    "pred_and_plot(load_jyt_data(), 'figure/conf_jinyintan.png',   'Confusion Matrix for Jinyintan (last 10 days)')\n",
    "pred_and_plot(load_sz_data(),  'figure/conf_shenzhen.png',    'Confusion Matrix for Shenzhen (last 10 days)')"
   ]
  },
  {
   "cell_type": "markdown",
   "metadata": {},
   "source": [
    "# mean(std)"
   ]
  },
  {
   "cell_type": "markdown",
   "metadata": {},
   "source": [
    "## Tongji"
   ]
  },
  {
   "cell_type": "code",
   "execution_count": 22,
   "metadata": {},
   "outputs": [],
   "source": [
    "def mean_std(df):\n",
    "    survival = df.query(\"`Survival/death` == 0\")\n",
    "    death    = df.query(\"`Survival/death` == 1\")\n",
    "    print(f'\\tTotal(N={len(df)})\\tAlive(n={len(survival)})\\tDecease(n={len(death)})')\n",
    "    for feat in features_en:\n",
    "        print(f\"{feat}\\t\",\n",
    "              f\"{df[feat].mean():.3f}({df[feat].std():.3f})\\t\",\n",
    "              f\"{survival[feat].mean():.3f}({survival[feat].std():.3f})\\t\",\n",
    "              f\"{death[feat].mean():.3f}({death[feat].std():.3f})\")"
   ]
  },
  {
   "cell_type": "code",
   "execution_count": 23,
   "metadata": {},
   "outputs": [
    {
     "name": "stdout",
     "output_type": "stream",
     "text": [
      "\tTotal(N=454)\tAlive(n=287)\tDecease(n=167)\n",
      "LDH\t 419.747(369.759)\t 224.003(79.009)\t 756.144(426.916)\n",
      "CRP\t 55.458(77.372)\t 11.714(23.941)\t 130.635(79.718)\n",
      "L%\t 18.609(13.258)\t 25.859(10.633)\t 6.149(6.148)\n"
     ]
    }
   ],
   "source": [
    "p_read_375 = '../新冠荷兰数据/data/time_series_375.parquet'\n",
    "df375 = pd.read_parquet(p_read_375)\n",
    "df375 = merge_data_by_sliding_window(df375, subset=features_zh)\n",
    "df375 = df375[features_zh + ['出院方式']]\n",
    "df375 = (\n",
    "    df375\n",
    "    .sort_index()\n",
    "    .groupby(level=0).first()\n",
    ")\n",
    "\n",
    "p_read_110 = '../新冠荷兰数据/data/time_series_test_110.parquet'\n",
    "df110 = pd.read_parquet(p_read_110)\n",
    "df110 = merge_data_by_sliding_window(df110, subset=features_zh)\n",
    "df110 = df110[features_zh+['出院方式']]\n",
    "df110 = (\n",
    "    df110\n",
    "    .sort_index()\n",
    "    .groupby(level=0).first()\n",
    ")\n",
    "\n",
    "df = pd.concat([df375, df110]).reset_index()\n",
    "df = df.rename(columns={'乳酸脱氢酶': 'LDH', '超敏C反应蛋白': 'CRP', '淋巴细胞(%)': 'L%', '出院方式': 'Survival/death'})\n",
    "mean_std(df)"
   ]
  },
  {
   "cell_type": "markdown",
   "metadata": {},
   "source": [
    "## Netherlands"
   ]
  },
  {
   "cell_type": "code",
   "execution_count": 24,
   "metadata": {},
   "outputs": [
    {
     "name": "stdout",
     "output_type": "stream",
     "text": [
      "\tTotal(N=135)\tAlive(n=121)\tDecease(n=14)\n",
      "LDH\t 343.193(174.803)\t 319.190(139.206)\t 550.643(290.477)\n",
      "CRP\t 69.444(71.305)\t 62.686(64.220)\t 127.857(101.189)\n",
      "L%\t 18.644(10.198)\t 19.573(9.958)\t 10.610(8.887)\n"
     ]
    }
   ],
   "source": [
    "df = pd.read_excel(\"../新冠荷兰数据/data/Quanjel_dataset_1591655498_1.xlsx\")\n",
    "    \n",
    "df = df[df['Date of discharge'] != 'No']\n",
    "df['Date of discharge'] = pd.to_datetime(df['Date of discharge'])\n",
    "df['diff'] = (df['Date of discharge'] - df['Date blood analysis']).dt.days\n",
    "\n",
    "# Select the data and rename it\n",
    "df['Survival/death'] = df['Survival/death'].map({'Alive': 0, 'Deceased': 1})\n",
    "df = df.query(\"`diff` <= 3\").reset_index(drop=True)\n",
    "df = df.rename(columns={'LD': 'LDH',\n",
    "                        'Percentage lymphocytes': 'L%'})\n",
    "df = df[features_en + ['Survival/death']]\n",
    "df['Class'] = 'AH (last 10 days)'\n",
    "df['Survival/death'] = df['Survival/death'].astype(int)\n",
    "\n",
    "mean_std(df)"
   ]
  },
  {
   "cell_type": "markdown",
   "metadata": {},
   "source": [
    "## France"
   ]
  },
  {
   "cell_type": "code",
   "execution_count": 27,
   "metadata": {},
   "outputs": [
    {
     "name": "stdout",
     "output_type": "stream",
     "text": [
      "\tTotal(N=98)\tAlive(n=62)\tDecease(n=36)\n",
      "LDH\t 574.301(440.516)\t 496.119(301.275)\t 708.949(591.725)\n",
      "CRP\t 165.716(132.418)\t 139.935(117.536)\t 210.118(145.990)\n",
      "L%\t 9.030(6.475)\t 10.194(7.562)\t 7.026(3.163)\n"
     ]
    }
   ],
   "source": [
    "d_fr = load_fr_data()\n",
    "mean_std(d_fr)"
   ]
  },
  {
   "cell_type": "markdown",
   "metadata": {},
   "source": [
    "## New York"
   ]
  },
  {
   "cell_type": "code",
   "execution_count": 28,
   "metadata": {},
   "outputs": [
    {
     "name": "stdout",
     "output_type": "stream",
     "text": [
      "\tTotal(N=1038)\tAlive(n=678)\tDecease(n=360)\n",
      "LDH\t 500.045(285.147)\t 425.677(213.954)\t 640.106(344.129)\n",
      "CRP\t 109.134(104.450)\t 82.492(79.408)\t 159.309(125.530)\n",
      "L%\t 8.123(7.037)\t 9.685(7.228)\t 5.181(5.587)\n"
     ]
    }
   ],
   "source": [
    "d_ny = load_ny_data()\n",
    "mean_std(d_ny)"
   ]
  },
  {
   "cell_type": "markdown",
   "metadata": {},
   "source": [
    "# kolmogorov-Smirnov (K-S) test"
   ]
  },
  {
   "cell_type": "code",
   "execution_count": 8,
   "metadata": {},
   "outputs": [
    {
     "name": "stdout",
     "output_type": "stream",
     "text": [
      "Netherlands (AH)\n",
      "LDH\t Ks_2sampResult(statistic=0.2097208314691324, pvalue=3.6186610297139765e-07)\n",
      "CRP\t Ks_2sampResult(statistic=0.3119500607196881, pvalue=1.9984014443252818e-15)\n",
      "L%\t Ks_2sampResult(statistic=0.2860571972360114, pvalue=5.103695244201845e-13)\n",
      "France (FO)\n",
      "LDH\t Ks_2sampResult(statistic=0.38262577758376076, pvalue=1.8546164604060777e-11)\n",
      "CRP\t Ks_2sampResult(statistic=0.3513405362144858, pvalue=1.0816414430792065e-09)\n",
      "L%\t Ks_2sampResult(statistic=0.32964094728800614, pvalue=1.4533176662112623e-08)\n",
      "New York (NH)\n",
      "LDH\t Ks_2sampResult(statistic=0.31306605669067417, pvalue=3.3306690738754696e-15)\n",
      "CRP\t Ks_2sampResult(statistic=0.30915067025233633, pvalue=3.3306690738754696e-15)\n",
      "L%\t Ks_2sampResult(statistic=0.31918127208844654, pvalue=3.3306690738754696e-15)\n"
     ]
    }
   ],
   "source": [
    "d_tj = load_tj_data()\n",
    "d_nl = load_nl_data()\n",
    "d_fr = load_fr_data()\n",
    "d_ny = load_ny_data()\n",
    "\n",
    "print('Netherlands (AH)')\n",
    "print('LDH\\t', ks_2samp(d_tj['LDH'], d_nl['LDH']))\n",
    "print('CRP\\t', ks_2samp(d_tj['CRP'], d_nl['CRP']))\n",
    "print('L%\\t',  ks_2samp(d_tj['L%'], d_nl['L%']))\n",
    "\n",
    "print('France (FO)')\n",
    "print('LDH\\t', ks_2samp(d_tj['LDH'], d_fr['LDH']))\n",
    "print('CRP\\t', ks_2samp(d_tj['CRP'], d_fr['CRP']))\n",
    "print('L%\\t',  ks_2samp(d_tj['L%'], d_fr['L%']))\n",
    "\n",
    "print('New York (NH)')\n",
    "print('LDH\\t', ks_2samp(d_tj['LDH'], d_ny['LDH']))\n",
    "print('CRP\\t', ks_2samp(d_tj['CRP'], d_ny['CRP']))\n",
    "print('L%\\t',  ks_2samp(d_tj['L%'], d_ny['L%']))"
   ]
  },
  {
   "cell_type": "markdown",
   "metadata": {},
   "source": [
    "# Retrain"
   ]
  },
  {
   "cell_type": "markdown",
   "metadata": {},
   "source": [
    "## Netherlands"
   ]
  },
  {
   "cell_type": "code",
   "execution_count": 12,
   "metadata": {},
   "outputs": [
    {
     "name": "stdout",
     "output_type": "stream",
     "text": [
      "0.83 / [0.76, 0.82, 0.9, 0.82, 0.84]\n"
     ]
    }
   ],
   "source": [
    "model = XGBClassifier(max_depth=3, n_estimators=1)\n",
    "d_nl = load_nl_data()\n",
    "x = d_nl[['LDH', 'CRP', 'L%']]\n",
    "y = d_nl['Survival/death']\n",
    "\n",
    "skf = StratifiedKFold(n_splits=5, shuffle=True, random_state=0)\n",
    "accs = []\n",
    "for tr_idx, te_idx in skf.split(x, y):\n",
    "    x_tr = x.iloc[tr_idx]\n",
    "    y_tr = y.iloc[tr_idx]\n",
    "    x_te = x.iloc[te_idx]\n",
    "    y_te = y.iloc[te_idx]\n",
    "    \n",
    "    clf = model.fit(x_tr, y_tr)\n",
    "    pred = clf.predict(x_te)\n",
    "\n",
    "    accs.append(metrics.accuracy_score(y_te, pred))\n",
    "\n",
    "print(f\"{np.mean(accs).round(2)} / {[acc.round(2) for acc in accs]}\")"
   ]
  },
  {
   "cell_type": "markdown",
   "metadata": {},
   "source": [
    "## New York\n",
    "Train with the last data and predict the last and first data"
   ]
  },
  {
   "cell_type": "code",
   "execution_count": 28,
   "metadata": {},
   "outputs": [
    {
     "name": "stdout",
     "output_type": "stream",
     "text": [
      "result accuracy of the last data：0.78\n",
      "result accuracy of the first data：0.72\n"
     ]
    }
   ],
   "source": [
    "model = XGBClassifier(max_depth=3, n_estimators=1)\n",
    "d_ny = load_ny_data()\n",
    "x_tr = d_ny[['LDH', 'CRP', 'L%']]\n",
    "y_tr = d_ny['Survival/death']\n",
    "clf = model.fit(x_tr, y_tr)\n",
    "pred = clf.predict(x_tr)\n",
    "\n",
    "print(f\"result accuracy of the last data：{metrics.accuracy_score(y_tr, pred):.2f}\")\n",
    "\n",
    "\n",
    "df = pd.read_csv('../新冠纽约数据/data/Zanos_Dataset_1_1593181746_12.csv', index_col=0)\n",
    "df = df[['First_LDH', 'First_CRP', 'First_Lymph', 'Expired_Outcome']]\n",
    "df.columns = features_en + ['Survival/death']\n",
    "df = df.dropna(subset=['Survival/death'])\n",
    "df = df.reset_index(drop=True)\n",
    "df['Survival/death'] = df['Survival/death'].astype(int)\n",
    "\n",
    "x_te = df[['LDH', 'CRP', 'L%']]\n",
    "y_te = df['Survival/death']\n",
    "pred = clf.predict(x_te)\n",
    "print(f\"result accuracy of the first data：{metrics.accuracy_score(y_te, pred):.2f}\")"
   ]
  }
 ],
 "metadata": {
  "kernelspec": {
   "display_name": "Python 3",
   "language": "python",
   "name": "python3"
  },
  "language_info": {
   "codemirror_mode": {
    "name": "ipython",
    "version": 3
   },
   "file_extension": ".py",
   "mimetype": "text/x-python",
   "name": "python",
   "nbconvert_exporter": "python",
   "pygments_lexer": "ipython3",
   "version": "3.6.10"
  },
  "toc": {
   "base_numbering": 1,
   "nav_menu": {},
   "number_sections": true,
   "sideBar": true,
   "skip_h1_title": false,
   "title_cell": "Table of Contents",
   "title_sidebar": "Contents",
   "toc_cell": false,
   "toc_position": {
    "height": "calc(100% - 180px)",
    "left": "10px",
    "top": "150px",
    "width": "250.475px"
   },
   "toc_section_display": true,
   "toc_window_display": true
  }
 },
 "nbformat": 4,
 "nbformat_minor": 4
}
